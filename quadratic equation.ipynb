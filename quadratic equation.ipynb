{
 "cells": [
  {
   "cell_type": "markdown",
   "id": "dd05f193",
   "metadata": {},
   "source": [
    "### Quadratic Equation-\n",
    "   The polynomial equation whose highest degree is two is called a quadratic equation or sometimes just quadratics. It is expressed in the form of:\n",
    "$$ax^2+bx+c=0$$ \n",
    "where x is the unknown variable and a, b and c are the constant terms.<br>\n",
    "The terms a, b and c are also called quadratic coefficients.\n",
    "### The general form of Quadratic Equation is\n",
    "<div style=\"text-align:left;\">\n",
    "$$ax^2+bx+c=0$$\n",
    "\n",
    "$$\n",
    "x = \\frac{-b\\pm\\sqrt{(b^2-4ac)}}{2a}\n",
    "$$\n",
    "</div>"
   ]
  },
  {
   "cell_type": "code",
   "execution_count": 8,
   "id": "a057373c",
   "metadata": {
    "scrolled": true
   },
   "outputs": [
    {
     "name": "stdout",
     "output_type": "stream",
     "text": [
      "Enter coefficient a : 12\n",
      "Enter coefficient b : 12\n",
      "Enter coefficient c : 12\n",
      "Roots of quadratic equation is complex number \n",
      "x1=(-0.5+0.8660254037844387j) ,  x2=(-0.5-0.8660254037844387j)\n"
     ]
    }
   ],
   "source": [
    "# Python program to find roots of quadratic equation \n",
    "#--------import complex math module--------------------------------------------------------\n",
    "import cmath\n",
    "#--------import math module----------------------------------------------------------------\n",
    "import math\n",
    "#----the variable a,b,c are quadratic coefficients.----------------------------------------\n",
    "a=float(input(\"Enter coefficient a : \"))\n",
    "b=float(input(\"Enter coefficient b : \"))\n",
    "c=float(input(\"Enter coefficient c : \"))\n",
    "#---function for finding roots-------------------------------------------------------------\n",
    "def quadratic():\n",
    "#---calculate the discriminant-------------------------------------------------------------\n",
    "    discriminant=(b**2)-(4*a*c)\n",
    "    var1 = ((-b) + (math.sqrt(abs(discriminant))))/(2*a)\n",
    "    var2 = ((-b) - (math.sqrt(abs(discriminant))))/(2*a)\n",
    "#---checking condition for discriminant-----------------------------------------------------\n",
    "    if discriminant > 0:        \n",
    "        print(\"Roots of quadratic equation is real\")\n",
    "        print(f\"x1={var1}  ,   x2={var2}\")\n",
    "    elif discriminant == 0:\n",
    "        print(\"Roots of quadratic equation is real and same\")\n",
    "        print(f\"x1={var1}  ,  x2={var2}\")\n",
    "#---if discriminant is less than 0-----------------------------------------------------------\n",
    "    elif discriminant < 0:\n",
    "        var3 = ((-b) + (cmath.sqrt(discriminant)))/(2*a)\n",
    "        var4 = ((-b) - (cmath.sqrt(discriminant)))/(2*a)\n",
    "        print(\"Roots of quadratic equation is complex number \")\n",
    "        print(f\"x1={var3} ,  x2={var4}\")\n",
    "#---coefficient a should not equal to zero bcoz base is than infinite condition is formed-----\n",
    "if a == 0: \n",
    "        print(\"Value of a is not equal to zero \") \n",
    "else:\n",
    "    quadratic()\n"
   ]
  },
  {
   "cell_type": "code",
   "execution_count": null,
   "id": "2133ab39",
   "metadata": {},
   "outputs": [],
   "source": []
  }
 ],
 "metadata": {
  "kernelspec": {
   "display_name": "Python 3 (ipykernel)",
   "language": "python",
   "name": "python3"
  },
  "language_info": {
   "codemirror_mode": {
    "name": "ipython",
    "version": 3
   },
   "file_extension": ".py",
   "mimetype": "text/x-python",
   "name": "python",
   "nbconvert_exporter": "python",
   "pygments_lexer": "ipython3",
   "version": "3.9.12"
  }
 },
 "nbformat": 4,
 "nbformat_minor": 5
}
